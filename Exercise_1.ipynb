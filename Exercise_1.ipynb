{
  "nbformat": 4,
  "nbformat_minor": 0,
  "metadata": {
    "colab": {
      "provenance": [],
      "authorship_tag": "ABX9TyMAGTnaAG/lk3MVTvjZeMgn",
      "include_colab_link": true
    },
    "kernelspec": {
      "name": "python3",
      "display_name": "Python 3"
    },
    "language_info": {
      "name": "python"
    }
  },
  "cells": [
    {
      "cell_type": "markdown",
      "metadata": {
        "id": "view-in-github",
        "colab_type": "text"
      },
      "source": [
        "<a href=\"https://colab.research.google.com/github/dawood1000/My-Repository/blob/main/Exercise_1.ipynb\" target=\"_parent\"><img src=\"https://colab.research.google.com/assets/colab-badge.svg\" alt=\"Open In Colab\"/></a>"
      ]
    },
    {
      "cell_type": "code",
      "execution_count": 2,
      "metadata": {
        "colab": {
          "base_uri": "https://localhost:8080/"
        },
        "id": "X2rZY9qTJzbB",
        "outputId": "5623d1c8-ccc5-4bfd-fe86-b34403fc7639"
      },
      "outputs": [
        {
          "output_type": "stream",
          "name": "stdout",
          "text": [
            "9.0\n",
            "<class 'int'>\n",
            "<class 'float'>\n",
            "0\n"
          ]
        }
      ],
      "source": [
        "print((13-4) / 12*12)\n",
        "print(type (4*3))\n",
        "print(type (4.0*3))\n",
        "print(int (1/2))"
      ]
    },
    {
      "cell_type": "markdown",
      "source": [
        "# Typecasting:\n",
        "              When we typecast a variable it gets created in memory at another address with type we've casted it to.\n",
        "              Let's say: we create a variable 'x = 5' then we typecast it as 'float(x)' so instead of changing x datatype at first memory address it replicates x at another memory address with datatype float."
      ],
      "metadata": {
        "id": "dp9yjLgSLSk2"
      }
    },
    {
      "cell_type": "code",
      "source": [],
      "metadata": {
        "id": "OEXUPJWnLKC_"
      },
      "execution_count": null,
      "outputs": []
    }
  ]
}